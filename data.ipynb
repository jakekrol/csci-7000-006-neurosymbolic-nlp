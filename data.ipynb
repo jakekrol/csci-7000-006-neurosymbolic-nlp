{
 "cells": [
  {
   "cell_type": "markdown",
   "metadata": {},
   "source": [
    "# Data for CSCI 7000 final"
   ]
  },
  {
   "cell_type": "markdown",
   "metadata": {},
   "source": [
    "## Imports"
   ]
  },
  {
   "cell_type": "code",
   "execution_count": 171,
   "metadata": {},
   "outputs": [],
   "source": [
    "import pandas as pd\n",
    "import numpy as np\n",
    "import matplotlib.pyplot as plt\n",
    "import os, sys\n",
    "import multiprocessing as mp\n",
    "import itertools\n",
    "import plotly.express as px\n",
    "from scipy.stats import entropy\n",
    "from functools import partial\n",
    "import re"
   ]
  },
  {
   "cell_type": "markdown",
   "metadata": {},
   "source": [
    "## Data"
   ]
  },
  {
   "cell_type": "code",
   "execution_count": 111,
   "metadata": {},
   "outputs": [
    {
     "name": "stdout",
     "output_type": "stream",
     "text": [
      "/data/jake/csci_7000-final_project ['csci_7000-genes.tsv', 'test.tsv', 'csci_7000-gene_subsetting.ipy', 'data.ipynb', 'samples_1kg', 'gargs.log']\n"
     ]
    }
   ],
   "source": [
    "os.chdir(\"/data/jake/csci_7000-final_project\")\n",
    "print(os.getcwd(), os.listdir())"
   ]
  },
  {
   "cell_type": "code",
   "execution_count": 112,
   "metadata": {},
   "outputs": [
    {
     "data": {
      "text/plain": [
       "['1.pos.CCDC28B.32665987.32670988.giggle',\n",
       " '2.pos.AC074117.10.27579113.27590489.giggle',\n",
       " '3.pos.CRELD1.9975506.9987097.giggle',\n",
       " '1.neg.IVNS1ABP.185265520.185286461.giggle',\n",
       " '16.neg.NPIPB7.28467693.28481868.giggle']"
      ]
     },
     "execution_count": 112,
     "metadata": {},
     "output_type": "execute_result"
    }
   ],
   "source": [
    "# all 1kg giggle files\n",
    "giggle_1kg = \"/data/jake/genefusion/data/2024_11_01-fusions-1kg/giggle\"\n",
    "os.listdir(giggle_1kg)[:5]"
   ]
  },
  {
   "cell_type": "markdown",
   "metadata": {},
   "source": [
    "### Gene list\n",
    "\n",
    "- See ipy file for subset heuristic"
   ]
  },
  {
   "cell_type": "code",
   "execution_count": 113,
   "metadata": {},
   "outputs": [
    {
     "data": {
      "text/html": [
       "<div>\n",
       "<style scoped>\n",
       "    .dataframe tbody tr th:only-of-type {\n",
       "        vertical-align: middle;\n",
       "    }\n",
       "\n",
       "    .dataframe tbody tr th {\n",
       "        vertical-align: top;\n",
       "    }\n",
       "\n",
       "    .dataframe thead th {\n",
       "        text-align: right;\n",
       "    }\n",
       "</style>\n",
       "<table border=\"1\" class=\"dataframe\">\n",
       "  <thead>\n",
       "    <tr style=\"text-align: right;\">\n",
       "      <th></th>\n",
       "      <th>gene1</th>\n",
       "      <th>gene2</th>\n",
       "    </tr>\n",
       "  </thead>\n",
       "  <tbody>\n",
       "    <tr>\n",
       "      <th>0</th>\n",
       "      <td>TNRC6B</td>\n",
       "      <td>LRP1B</td>\n",
       "    </tr>\n",
       "    <tr>\n",
       "      <th>1</th>\n",
       "      <td>TNRC6B</td>\n",
       "      <td>ASH1L</td>\n",
       "    </tr>\n",
       "    <tr>\n",
       "      <th>2</th>\n",
       "      <td>TNRC6B</td>\n",
       "      <td>IQCJnegSCHIP1</td>\n",
       "    </tr>\n",
       "    <tr>\n",
       "      <th>3</th>\n",
       "      <td>TNRC6B</td>\n",
       "      <td>CACNA1E</td>\n",
       "    </tr>\n",
       "    <tr>\n",
       "      <th>4</th>\n",
       "      <td>TNRC6B</td>\n",
       "      <td>KIAA1671</td>\n",
       "    </tr>\n",
       "  </tbody>\n",
       "</table>\n",
       "</div>"
      ],
      "text/plain": [
       "    gene1          gene2\n",
       "0  TNRC6B          LRP1B\n",
       "1  TNRC6B          ASH1L\n",
       "2  TNRC6B  IQCJnegSCHIP1\n",
       "3  TNRC6B        CACNA1E\n",
       "4  TNRC6B       KIAA1671"
      ]
     },
     "execution_count": 113,
     "metadata": {},
     "output_type": "execute_result"
    }
   ],
   "source": [
    "df = pd.read_csv(\"./csci_7000-genes.tsv\", sep=\"\\t\", header=None)\n",
    "df.columns = [\"gene1\", \"gene2\"]\n",
    "df.head()"
   ]
  },
  {
   "cell_type": "code",
   "execution_count": 114,
   "metadata": {},
   "outputs": [],
   "source": [
    "genes = set(pd.concat([df[\"gene1\"], df[\"gene2\"]]).unique())"
   ]
  },
  {
   "cell_type": "code",
   "execution_count": 115,
   "metadata": {},
   "outputs": [],
   "source": [
    "def filestring2data(string):\n",
    "    # assumes .giggle extension\n",
    "    chrm = string.split('.')[0]\n",
    "    strand = string.split('.')[1]\n",
    "    gene = string.split('.')[2]\n",
    "    start = string.split('.')[-3]\n",
    "    end = string.split('.')[-2]\n",
    "    # handle rare case where gene name has a period\n",
    "    if len(string.split('.')) >= 7:\n",
    "        gene = '.'.join(string.split('.')[2:-3])\n",
    "    return [chrm, strand, gene, start, end]"
   ]
  },
  {
   "cell_type": "code",
   "execution_count": 116,
   "metadata": {},
   "outputs": [
    {
     "data": {
      "text/plain": [
       "['21', 'neg', 'AP000304.12', '34956993', '35284635']"
      ]
     },
     "execution_count": 116,
     "metadata": {},
     "output_type": "execute_result"
    }
   ],
   "source": [
    "filestring2data(\"21.neg.AP000304.12.34956993.35284635.giggle\")"
   ]
  },
  {
   "cell_type": "markdown",
   "metadata": {},
   "source": [
    "### Gene giggles"
   ]
  },
  {
   "cell_type": "code",
   "execution_count": 117,
   "metadata": {},
   "outputs": [],
   "source": [
    "# map genes to giggle files\n",
    "fmap = {k: None for k in genes}\n",
    "for f in os.listdir(giggle_1kg):\n",
    "    _, _, gene, _, _ = filestring2data(f)\n",
    "    if gene in fmap.keys():\n",
    "        fmap[gene] = f"
   ]
  },
  {
   "cell_type": "code",
   "execution_count": 118,
   "metadata": {},
   "outputs": [
    {
     "data": {
      "text/plain": [
       "[('VPS13D', '1.pos.VPS13D.12290124.12572099.giggle'),\n",
       " ('DCC', '18.pos.DCC.49866542.51057784.giggle'),\n",
       " ('ARHGAP6', 'X.neg.ARHGAP6.11136239.11683821.giggle'),\n",
       " ('ASIC2', '17.neg.ASIC2.31340105.32501983.giggle'),\n",
       " ('SLC14A2', '18.pos.SLC14A2.42792960.43263072.giggle')]"
      ]
     },
     "execution_count": 118,
     "metadata": {},
     "output_type": "execute_result"
    }
   ],
   "source": [
    "list(fmap.items())[0:5]"
   ]
  },
  {
   "cell_type": "code",
   "execution_count": 119,
   "metadata": {},
   "outputs": [
    {
     "data": {
      "text/html": [
       "<div>\n",
       "<style scoped>\n",
       "    .dataframe tbody tr th:only-of-type {\n",
       "        vertical-align: middle;\n",
       "    }\n",
       "\n",
       "    .dataframe tbody tr th {\n",
       "        vertical-align: top;\n",
       "    }\n",
       "\n",
       "    .dataframe thead th {\n",
       "        text-align: right;\n",
       "    }\n",
       "</style>\n",
       "<table border=\"1\" class=\"dataframe\">\n",
       "  <thead>\n",
       "    <tr style=\"text-align: right;\">\n",
       "      <th></th>\n",
       "      <th>gene</th>\n",
       "      <th>file</th>\n",
       "    </tr>\n",
       "  </thead>\n",
       "  <tbody>\n",
       "    <tr>\n",
       "      <th>0</th>\n",
       "      <td>VPS13D</td>\n",
       "      <td>1.pos.VPS13D.12290124.12572099.giggle</td>\n",
       "    </tr>\n",
       "    <tr>\n",
       "      <th>1</th>\n",
       "      <td>DCC</td>\n",
       "      <td>18.pos.DCC.49866542.51057784.giggle</td>\n",
       "    </tr>\n",
       "    <tr>\n",
       "      <th>2</th>\n",
       "      <td>ARHGAP6</td>\n",
       "      <td>X.neg.ARHGAP6.11136239.11683821.giggle</td>\n",
       "    </tr>\n",
       "    <tr>\n",
       "      <th>3</th>\n",
       "      <td>ASIC2</td>\n",
       "      <td>17.neg.ASIC2.31340105.32501983.giggle</td>\n",
       "    </tr>\n",
       "    <tr>\n",
       "      <th>4</th>\n",
       "      <td>SLC14A2</td>\n",
       "      <td>18.pos.SLC14A2.42792960.43263072.giggle</td>\n",
       "    </tr>\n",
       "  </tbody>\n",
       "</table>\n",
       "</div>"
      ],
      "text/plain": [
       "      gene                                     file\n",
       "0   VPS13D    1.pos.VPS13D.12290124.12572099.giggle\n",
       "1      DCC      18.pos.DCC.49866542.51057784.giggle\n",
       "2  ARHGAP6   X.neg.ARHGAP6.11136239.11683821.giggle\n",
       "3    ASIC2    17.neg.ASIC2.31340105.32501983.giggle\n",
       "4  SLC14A2  18.pos.SLC14A2.42792960.43263072.giggle"
      ]
     },
     "execution_count": 119,
     "metadata": {},
     "output_type": "execute_result"
    }
   ],
   "source": [
    "df_fmap = pd.DataFrame(list(fmap.items()), columns=[\"gene\", \"file\"])\n",
    "df_fmap.head()"
   ]
  },
  {
   "cell_type": "code",
   "execution_count": 120,
   "metadata": {},
   "outputs": [
    {
     "data": {
      "text/html": [
       "<div>\n",
       "<style scoped>\n",
       "    .dataframe tbody tr th:only-of-type {\n",
       "        vertical-align: middle;\n",
       "    }\n",
       "\n",
       "    .dataframe tbody tr th {\n",
       "        vertical-align: top;\n",
       "    }\n",
       "\n",
       "    .dataframe thead th {\n",
       "        text-align: right;\n",
       "    }\n",
       "</style>\n",
       "<table border=\"1\" class=\"dataframe\">\n",
       "  <thead>\n",
       "    <tr style=\"text-align: right;\">\n",
       "      <th></th>\n",
       "      <th>l_chrm</th>\n",
       "      <th>l_start</th>\n",
       "      <th>l_end</th>\n",
       "      <th>strand</th>\n",
       "      <th>r_chrm</th>\n",
       "      <th>r_start</th>\n",
       "      <th>r_end</th>\n",
       "      <th>strand</th>\n",
       "      <th>unknown</th>\n",
       "      <th>sample</th>\n",
       "    </tr>\n",
       "  </thead>\n",
       "  <tbody>\n",
       "    <tr>\n",
       "      <th>0</th>\n",
       "      <td>1</td>\n",
       "      <td>12315035</td>\n",
       "      <td>12315134</td>\n",
       "      <td>-1</td>\n",
       "      <td>5</td>\n",
       "      <td>13507894</td>\n",
       "      <td>13507973</td>\n",
       "      <td>-1</td>\n",
       "      <td>0</td>\n",
       "      <td>alt_sort/HG00096.bed.gz</td>\n",
       "    </tr>\n",
       "    <tr>\n",
       "      <th>1</th>\n",
       "      <td>1</td>\n",
       "      <td>12344923</td>\n",
       "      <td>12345023</td>\n",
       "      <td>-1</td>\n",
       "      <td>7</td>\n",
       "      <td>2018079</td>\n",
       "      <td>2018178</td>\n",
       "      <td>-1</td>\n",
       "      <td>0</td>\n",
       "      <td>alt_sort/HG00096.bed.gz</td>\n",
       "    </tr>\n",
       "    <tr>\n",
       "      <th>2</th>\n",
       "      <td>1</td>\n",
       "      <td>12386032</td>\n",
       "      <td>12386131</td>\n",
       "      <td>-1</td>\n",
       "      <td>5</td>\n",
       "      <td>22740652</td>\n",
       "      <td>22740752</td>\n",
       "      <td>1</td>\n",
       "      <td>0</td>\n",
       "      <td>alt_sort/HG00096.bed.gz</td>\n",
       "    </tr>\n",
       "    <tr>\n",
       "      <th>3</th>\n",
       "      <td>1</td>\n",
       "      <td>12433155</td>\n",
       "      <td>12433190</td>\n",
       "      <td>-1</td>\n",
       "      <td>18</td>\n",
       "      <td>4705296</td>\n",
       "      <td>4705395</td>\n",
       "      <td>-1</td>\n",
       "      <td>0</td>\n",
       "      <td>alt_sort/HG00096.bed.gz</td>\n",
       "    </tr>\n",
       "    <tr>\n",
       "      <th>4</th>\n",
       "      <td>1</td>\n",
       "      <td>12477324</td>\n",
       "      <td>12477423</td>\n",
       "      <td>1</td>\n",
       "      <td>1</td>\n",
       "      <td>12477548</td>\n",
       "      <td>12477648</td>\n",
       "      <td>-1</td>\n",
       "      <td>0</td>\n",
       "      <td>alt_sort/HG00096.bed.gz</td>\n",
       "    </tr>\n",
       "  </tbody>\n",
       "</table>\n",
       "</div>"
      ],
      "text/plain": [
       "   l_chrm   l_start     l_end  strand r_chrm   r_start     r_end  strand  \\\n",
       "0       1  12315035  12315134      -1      5  13507894  13507973      -1   \n",
       "1       1  12344923  12345023      -1      7   2018079   2018178      -1   \n",
       "2       1  12386032  12386131      -1      5  22740652  22740752       1   \n",
       "3       1  12433155  12433190      -1     18   4705296   4705395      -1   \n",
       "4       1  12477324  12477423       1      1  12477548  12477648      -1   \n",
       "\n",
       "   unknown                   sample  \n",
       "0        0  alt_sort/HG00096.bed.gz  \n",
       "1        0  alt_sort/HG00096.bed.gz  \n",
       "2        0  alt_sort/HG00096.bed.gz  \n",
       "3        0  alt_sort/HG00096.bed.gz  \n",
       "4        0  alt_sort/HG00096.bed.gz  "
      ]
     },
     "execution_count": 120,
     "metadata": {},
     "output_type": "execute_result"
    }
   ],
   "source": [
    "df_giggle = pd.read_csv(\n",
    "    os.path.join(giggle_1kg, df_fmap[\"file\"][0]), sep=\"\\t\", header=None\n",
    ")\n",
    "giggle_columns = [\n",
    "    \"l_chrm\",\n",
    "    \"l_start\",\n",
    "    \"l_end\",\n",
    "    \"strand\",\n",
    "    \"r_chrm\",\n",
    "    \"r_start\",\n",
    "    \"r_end\",\n",
    "    \"strand\",\n",
    "    \"unknown\",\n",
    "    \"sample\",\n",
    "]\n",
    "df_giggle.columns = giggle_columns\n",
    "df_giggle.head()"
   ]
  },
  {
   "cell_type": "code",
   "execution_count": 121,
   "metadata": {},
   "outputs": [
    {
     "data": {
      "text/html": [
       "<div>\n",
       "<style scoped>\n",
       "    .dataframe tbody tr th:only-of-type {\n",
       "        vertical-align: middle;\n",
       "    }\n",
       "\n",
       "    .dataframe tbody tr th {\n",
       "        vertical-align: top;\n",
       "    }\n",
       "\n",
       "    .dataframe thead th {\n",
       "        text-align: right;\n",
       "    }\n",
       "</style>\n",
       "<table border=\"1\" class=\"dataframe\">\n",
       "  <thead>\n",
       "    <tr style=\"text-align: right;\">\n",
       "      <th></th>\n",
       "      <th>l_chrm</th>\n",
       "      <th>l_start</th>\n",
       "      <th>l_end</th>\n",
       "      <th>strand</th>\n",
       "      <th>r_chrm</th>\n",
       "      <th>r_start</th>\n",
       "      <th>r_end</th>\n",
       "      <th>strand</th>\n",
       "      <th>unknown</th>\n",
       "      <th>sample</th>\n",
       "    </tr>\n",
       "  </thead>\n",
       "  <tbody>\n",
       "    <tr>\n",
       "      <th>0</th>\n",
       "      <td>1</td>\n",
       "      <td>12315035</td>\n",
       "      <td>12315134</td>\n",
       "      <td>-1</td>\n",
       "      <td>5</td>\n",
       "      <td>13507894</td>\n",
       "      <td>13507973</td>\n",
       "      <td>-1</td>\n",
       "      <td>0</td>\n",
       "      <td>alt_sort/HG00096.bed.gz</td>\n",
       "    </tr>\n",
       "    <tr>\n",
       "      <th>1</th>\n",
       "      <td>1</td>\n",
       "      <td>12344923</td>\n",
       "      <td>12345023</td>\n",
       "      <td>-1</td>\n",
       "      <td>7</td>\n",
       "      <td>2018079</td>\n",
       "      <td>2018178</td>\n",
       "      <td>-1</td>\n",
       "      <td>0</td>\n",
       "      <td>alt_sort/HG00096.bed.gz</td>\n",
       "    </tr>\n",
       "    <tr>\n",
       "      <th>2</th>\n",
       "      <td>1</td>\n",
       "      <td>12386032</td>\n",
       "      <td>12386131</td>\n",
       "      <td>-1</td>\n",
       "      <td>5</td>\n",
       "      <td>22740652</td>\n",
       "      <td>22740752</td>\n",
       "      <td>1</td>\n",
       "      <td>0</td>\n",
       "      <td>alt_sort/HG00096.bed.gz</td>\n",
       "    </tr>\n",
       "    <tr>\n",
       "      <th>3</th>\n",
       "      <td>1</td>\n",
       "      <td>12433155</td>\n",
       "      <td>12433190</td>\n",
       "      <td>-1</td>\n",
       "      <td>18</td>\n",
       "      <td>4705296</td>\n",
       "      <td>4705395</td>\n",
       "      <td>-1</td>\n",
       "      <td>0</td>\n",
       "      <td>alt_sort/HG00096.bed.gz</td>\n",
       "    </tr>\n",
       "    <tr>\n",
       "      <th>4</th>\n",
       "      <td>1</td>\n",
       "      <td>12477324</td>\n",
       "      <td>12477423</td>\n",
       "      <td>1</td>\n",
       "      <td>1</td>\n",
       "      <td>12477548</td>\n",
       "      <td>12477648</td>\n",
       "      <td>-1</td>\n",
       "      <td>0</td>\n",
       "      <td>alt_sort/HG00096.bed.gz</td>\n",
       "    </tr>\n",
       "  </tbody>\n",
       "</table>\n",
       "</div>"
      ],
      "text/plain": [
       "   l_chrm   l_start     l_end  strand r_chrm   r_start     r_end  strand  \\\n",
       "0       1  12315035  12315134      -1      5  13507894  13507973      -1   \n",
       "1       1  12344923  12345023      -1      7   2018079   2018178      -1   \n",
       "2       1  12386032  12386131      -1      5  22740652  22740752       1   \n",
       "3       1  12433155  12433190      -1     18   4705296   4705395      -1   \n",
       "4       1  12477324  12477423       1      1  12477548  12477648      -1   \n",
       "\n",
       "   unknown                   sample  \n",
       "0        0  alt_sort/HG00096.bed.gz  \n",
       "1        0  alt_sort/HG00096.bed.gz  \n",
       "2        0  alt_sort/HG00096.bed.gz  \n",
       "3        0  alt_sort/HG00096.bed.gz  \n",
       "4        0  alt_sort/HG00096.bed.gz  "
      ]
     },
     "execution_count": 121,
     "metadata": {},
     "output_type": "execute_result"
    }
   ],
   "source": [
    "# read giggle if not empty\n",
    "def read_giggle(path):\n",
    "    # handle empty file case for lexicographically high ranked files\n",
    "    # which are often right intervals\n",
    "    # thus, no giggle hits when it is query/source\n",
    "    if not (os.path.getsize(path) == 0):\n",
    "        df = pd.read_csv(path, sep=\"\\t\", header=None)\n",
    "        df.columns = [\n",
    "            \"l_chrm\",\n",
    "            \"l_start\",\n",
    "            \"l_end\",\n",
    "            \"strand\",\n",
    "            \"r_chrm\",\n",
    "            \"r_start\",\n",
    "            \"r_end\",\n",
    "            \"strand\",\n",
    "            \"unknown\",\n",
    "            \"sample\",\n",
    "        ]\n",
    "        return df\n",
    "    else:\n",
    "        return None\n",
    "\n",
    "\n",
    "df_giggle = read_giggle(os.path.join(giggle_1kg, df_fmap[\"file\"][0]))\n",
    "df_giggle.head()"
   ]
  },
  {
   "cell_type": "code",
   "execution_count": 122,
   "metadata": {},
   "outputs": [],
   "source": [
    "# setup outdir for giggle subset\n",
    "outdir = \"/data/jake/csci_7000-final_project/samples_1kg/giggle\""
   ]
  },
  {
   "cell_type": "code",
   "execution_count": 123,
   "metadata": {},
   "outputs": [],
   "source": [
    "def write_giggle(df, path, mode=\"a\"):\n",
    "    df.to_csv(path, sep=\"\\t\", index=False, header=False, mode=mode)\n",
    "\n",
    "\n",
    "write_giggle(df_giggle, \"test.tsv\")"
   ]
  },
  {
   "cell_type": "markdown",
   "metadata": {},
   "source": [
    "### Sample-wise giggles"
   ]
  },
  {
   "cell_type": "code",
   "execution_count": 124,
   "metadata": {},
   "outputs": [],
   "source": [
    "def split_giggle_samples(file):\n",
    "    gene = filestring2data(file)[2]\n",
    "    path = os.path.join(giggle_1kg, file)\n",
    "    df_giggle = read_giggle(path)\n",
    "    if type(df_giggle) != type(None):\n",
    "        df_giggle[\"sample\"] = df_giggle[\"sample\"].apply(\n",
    "            lambda x: os.path.basename(x).split(\".\")[0]\n",
    "        )\n",
    "        # print(df_giggle['sample'])\n",
    "        for sample, group in df_giggle.groupby(\"sample\"):\n",
    "            write_giggle(group, os.path.join(outdir, f\"{sample}.{gene}.tsv\"),mode=\"w\")\n",
    "\n",
    "\n",
    "files = list(df_fmap[\"file\"])\n",
    "cpus = 50 \n",
    "with mp.Pool(cpus) as pool:\n",
    "    pool.map(split_giggle_samples, files)"
   ]
  },
  {
   "cell_type": "markdown",
   "metadata": {},
   "source": [
    "### Intersect"
   ]
  },
  {
   "cell_type": "markdown",
   "metadata": {},
   "source": [
    "- Group by sample\n",
    "- Write sample-wise results to files\n",
    "    - `split_giggle_samples`\n",
    "- Do intersect for gene2gene variants\n",
    "    - `genefile='/data/jake/genefusion/data/gene_file_cln.txt'`\n",
    "    - `outdir=''`\n",
    "    - `bedtools=''`\n",
    "    - `ls | gargs --log ../gargs.log -p 64 -o \"$bedtools intersect -a $genefile -b <(cut -f 5-7 {0}) > $outdir/{0}.g2g\"`\n",
    "\n",
    "- Convert fusion results to vector"
   ]
  },
  {
   "cell_type": "code",
   "execution_count": 126,
   "metadata": {},
   "outputs": [],
   "source": [
    "dir_g2g_1kg = '/data/jake/csci_7000-final_project/samples_1kg/gene2gene'"
   ]
  },
  {
   "cell_type": "code",
   "execution_count": 127,
   "metadata": {},
   "outputs": [
    {
     "data": {
      "text/plain": [
       "['NA18614.CSMD2.tsv.fusions',\n",
       " 'HG01918.CTNNA2.tsv.fusions',\n",
       " 'NA18546.DCC.tsv.fusions',\n",
       " 'HG02855.RBMS3.tsv.fusions',\n",
       " 'HG03565.CPNE4.tsv.fusions']"
      ]
     },
     "execution_count": 127,
     "metadata": {},
     "output_type": "execute_result"
    }
   ],
   "source": [
    "os.listdir(dir_g2g_1kg)[:5]"
   ]
  },
  {
   "cell_type": "code",
   "execution_count": 131,
   "metadata": {},
   "outputs": [
    {
     "data": {
      "text/html": [
       "<div>\n",
       "<style scoped>\n",
       "    .dataframe tbody tr th:only-of-type {\n",
       "        vertical-align: middle;\n",
       "    }\n",
       "\n",
       "    .dataframe tbody tr th {\n",
       "        vertical-align: top;\n",
       "    }\n",
       "\n",
       "    .dataframe thead th {\n",
       "        text-align: right;\n",
       "    }\n",
       "</style>\n",
       "<table border=\"1\" class=\"dataframe\">\n",
       "  <thead>\n",
       "    <tr style=\"text-align: right;\">\n",
       "      <th></th>\n",
       "      <th>target</th>\n",
       "    </tr>\n",
       "  </thead>\n",
       "  <tbody>\n",
       "    <tr>\n",
       "      <th>0</th>\n",
       "      <td>RP11neg611E13.2</td>\n",
       "    </tr>\n",
       "    <tr>\n",
       "      <th>1</th>\n",
       "      <td>RP11neg611E13.2</td>\n",
       "    </tr>\n",
       "    <tr>\n",
       "      <th>2</th>\n",
       "      <td>DLEU7</td>\n",
       "    </tr>\n",
       "    <tr>\n",
       "      <th>3</th>\n",
       "      <td>DLEU7negAS1</td>\n",
       "    </tr>\n",
       "    <tr>\n",
       "      <th>4</th>\n",
       "      <td>ATP1A3</td>\n",
       "    </tr>\n",
       "  </tbody>\n",
       "</table>\n",
       "</div>"
      ],
      "text/plain": [
       "            target\n",
       "0  RP11neg611E13.2\n",
       "1  RP11neg611E13.2\n",
       "2            DLEU7\n",
       "3      DLEU7negAS1\n",
       "4           ATP1A3"
      ]
     },
     "execution_count": 131,
     "metadata": {},
     "output_type": "execute_result"
    }
   ],
   "source": [
    "def read_gene2gene(file):\n",
    "    df = pd.read_csv(file, sep=\"\\t\", header=None, usecols=[3])\n",
    "    df.columns = [\"target\"]\n",
    "    return df\n",
    "read_gene2gene(os.path.join(dir_g2g_1kg, 'HG00096.ALK.tsv.fusions')).head()"
   ]
  },
  {
   "cell_type": "markdown",
   "metadata": {},
   "source": [
    "### Location map"
   ]
  },
  {
   "cell_type": "code",
   "execution_count": 137,
   "metadata": {},
   "outputs": [
    {
     "data": {
      "text/html": [
       "<div>\n",
       "<style scoped>\n",
       "    .dataframe tbody tr th:only-of-type {\n",
       "        vertical-align: middle;\n",
       "    }\n",
       "\n",
       "    .dataframe tbody tr th {\n",
       "        vertical-align: top;\n",
       "    }\n",
       "\n",
       "    .dataframe thead th {\n",
       "        text-align: right;\n",
       "    }\n",
       "</style>\n",
       "<table border=\"1\" class=\"dataframe\">\n",
       "  <thead>\n",
       "    <tr style=\"text-align: right;\">\n",
       "      <th></th>\n",
       "      <th>chrm</th>\n",
       "      <th>start</th>\n",
       "      <th>end</th>\n",
       "      <th>gene</th>\n",
       "      <th>strand</th>\n",
       "    </tr>\n",
       "  </thead>\n",
       "  <tbody>\n",
       "    <tr>\n",
       "      <th>0</th>\n",
       "      <td>1</td>\n",
       "      <td>69091</td>\n",
       "      <td>70008</td>\n",
       "      <td>OR4F5</td>\n",
       "      <td>pos</td>\n",
       "    </tr>\n",
       "    <tr>\n",
       "      <th>1</th>\n",
       "      <td>1</td>\n",
       "      <td>134901</td>\n",
       "      <td>139379</td>\n",
       "      <td>AL627309.1</td>\n",
       "      <td>neg</td>\n",
       "    </tr>\n",
       "    <tr>\n",
       "      <th>2</th>\n",
       "      <td>1</td>\n",
       "      <td>139790</td>\n",
       "      <td>140339</td>\n",
       "      <td>RP11neg34P13.14</td>\n",
       "      <td>neg</td>\n",
       "    </tr>\n",
       "    <tr>\n",
       "      <th>3</th>\n",
       "      <td>1</td>\n",
       "      <td>367640</td>\n",
       "      <td>368634</td>\n",
       "      <td>OR4F29</td>\n",
       "      <td>pos</td>\n",
       "    </tr>\n",
       "    <tr>\n",
       "      <th>4</th>\n",
       "      <td>1</td>\n",
       "      <td>621059</td>\n",
       "      <td>622053</td>\n",
       "      <td>OR4F16</td>\n",
       "      <td>neg</td>\n",
       "    </tr>\n",
       "  </tbody>\n",
       "</table>\n",
       "</div>"
      ],
      "text/plain": [
       "  chrm   start     end             gene strand\n",
       "0    1   69091   70008            OR4F5    pos\n",
       "1    1  134901  139379       AL627309.1    neg\n",
       "2    1  139790  140339  RP11neg34P13.14    neg\n",
       "3    1  367640  368634           OR4F29    pos\n",
       "4    1  621059  622053           OR4F16    neg"
      ]
     },
     "execution_count": 137,
     "metadata": {},
     "output_type": "execute_result"
    }
   ],
   "source": [
    "gene_file = '/data/jake/genefusion/data/gene_file_cln.txt'\n",
    "df_gene_file = pd.read_csv(gene_file, sep='\\t', header=None)\n",
    "df_gene_file.columns = ['chrm', 'start', 'end', 'gene', 'strand']\n",
    "df_gene_file.head()"
   ]
  },
  {
   "cell_type": "code",
   "execution_count": 138,
   "metadata": {},
   "outputs": [
    {
     "data": {
      "text/html": [
       "<div>\n",
       "<style scoped>\n",
       "    .dataframe tbody tr th:only-of-type {\n",
       "        vertical-align: middle;\n",
       "    }\n",
       "\n",
       "    .dataframe tbody tr th {\n",
       "        vertical-align: top;\n",
       "    }\n",
       "\n",
       "    .dataframe thead th {\n",
       "        text-align: right;\n",
       "    }\n",
       "</style>\n",
       "<table border=\"1\" class=\"dataframe\">\n",
       "  <thead>\n",
       "    <tr style=\"text-align: right;\">\n",
       "      <th></th>\n",
       "      <th>chrm</th>\n",
       "      <th>start</th>\n",
       "      <th>end</th>\n",
       "      <th>gene</th>\n",
       "      <th>strand</th>\n",
       "    </tr>\n",
       "  </thead>\n",
       "  <tbody>\n",
       "    <tr>\n",
       "      <th>145</th>\n",
       "      <td>1</td>\n",
       "      <td>6845384</td>\n",
       "      <td>7829766</td>\n",
       "      <td>CAMTA1</td>\n",
       "      <td>pos</td>\n",
       "    </tr>\n",
       "    <tr>\n",
       "      <th>159</th>\n",
       "      <td>1</td>\n",
       "      <td>8412457</td>\n",
       "      <td>8877702</td>\n",
       "      <td>RERE</td>\n",
       "      <td>neg</td>\n",
       "    </tr>\n",
       "    <tr>\n",
       "      <th>227</th>\n",
       "      <td>1</td>\n",
       "      <td>12290124</td>\n",
       "      <td>12572099</td>\n",
       "      <td>VPS13D</td>\n",
       "      <td>pos</td>\n",
       "    </tr>\n",
       "    <tr>\n",
       "      <th>261</th>\n",
       "      <td>1</td>\n",
       "      <td>14925200</td>\n",
       "      <td>15444539</td>\n",
       "      <td>KAZN</td>\n",
       "      <td>pos</td>\n",
       "    </tr>\n",
       "    <tr>\n",
       "      <th>308</th>\n",
       "      <td>1</td>\n",
       "      <td>17066768</td>\n",
       "      <td>17299474</td>\n",
       "      <td>CROCC</td>\n",
       "      <td>pos</td>\n",
       "    </tr>\n",
       "  </tbody>\n",
       "</table>\n",
       "</div>"
      ],
      "text/plain": [
       "    chrm     start       end    gene strand\n",
       "145    1   6845384   7829766  CAMTA1    pos\n",
       "159    1   8412457   8877702    RERE    neg\n",
       "227    1  12290124  12572099  VPS13D    pos\n",
       "261    1  14925200  15444539    KAZN    pos\n",
       "308    1  17066768  17299474   CROCC    pos"
      ]
     },
     "execution_count": 138,
     "metadata": {},
     "output_type": "execute_result"
    }
   ],
   "source": [
    "# subset\n",
    "mask = df_gene_file['gene'].apply(lambda x: x in genes)\n",
    "df_gene_file = df_gene_file[mask]\n",
    "df_gene_file.head()"
   ]
  },
  {
   "cell_type": "markdown",
   "metadata": {},
   "source": [
    "- the gene file is already lexicographically sorted for chromosomes\n",
    "- a second and thrid level sorts by start and end coordinates"
   ]
  },
  {
   "cell_type": "code",
   "execution_count": 139,
   "metadata": {},
   "outputs": [
    {
     "data": {
      "text/html": [
       "<div>\n",
       "<style scoped>\n",
       "    .dataframe tbody tr th:only-of-type {\n",
       "        vertical-align: middle;\n",
       "    }\n",
       "\n",
       "    .dataframe tbody tr th {\n",
       "        vertical-align: top;\n",
       "    }\n",
       "\n",
       "    .dataframe thead th {\n",
       "        text-align: right;\n",
       "    }\n",
       "</style>\n",
       "<table border=\"1\" class=\"dataframe\">\n",
       "  <thead>\n",
       "    <tr style=\"text-align: right;\">\n",
       "      <th></th>\n",
       "      <th>source</th>\n",
       "      <th>target</th>\n",
       "    </tr>\n",
       "  </thead>\n",
       "  <tbody>\n",
       "    <tr>\n",
       "      <th>0</th>\n",
       "      <td>CAMTA1</td>\n",
       "      <td>RERE</td>\n",
       "    </tr>\n",
       "    <tr>\n",
       "      <th>1</th>\n",
       "      <td>CAMTA1</td>\n",
       "      <td>VPS13D</td>\n",
       "    </tr>\n",
       "    <tr>\n",
       "      <th>2</th>\n",
       "      <td>CAMTA1</td>\n",
       "      <td>KAZN</td>\n",
       "    </tr>\n",
       "    <tr>\n",
       "      <th>3</th>\n",
       "      <td>CAMTA1</td>\n",
       "      <td>CROCC</td>\n",
       "    </tr>\n",
       "    <tr>\n",
       "      <th>4</th>\n",
       "      <td>CAMTA1</td>\n",
       "      <td>EIF4G3</td>\n",
       "    </tr>\n",
       "    <tr>\n",
       "      <th>...</th>\n",
       "      <td>...</td>\n",
       "      <td>...</td>\n",
       "    </tr>\n",
       "    <tr>\n",
       "      <th>18716</th>\n",
       "      <td>ARHGAP6</td>\n",
       "      <td>IL1RAPL1</td>\n",
       "    </tr>\n",
       "    <tr>\n",
       "      <th>18717</th>\n",
       "      <td>ARHGAP6</td>\n",
       "      <td>DMD</td>\n",
       "    </tr>\n",
       "    <tr>\n",
       "      <th>18718</th>\n",
       "      <td>FRMPD4</td>\n",
       "      <td>IL1RAPL1</td>\n",
       "    </tr>\n",
       "    <tr>\n",
       "      <th>18719</th>\n",
       "      <td>FRMPD4</td>\n",
       "      <td>DMD</td>\n",
       "    </tr>\n",
       "    <tr>\n",
       "      <th>18720</th>\n",
       "      <td>IL1RAPL1</td>\n",
       "      <td>DMD</td>\n",
       "    </tr>\n",
       "  </tbody>\n",
       "</table>\n",
       "<p>18721 rows × 2 columns</p>\n",
       "</div>"
      ],
      "text/plain": [
       "         source    target\n",
       "0        CAMTA1      RERE\n",
       "1        CAMTA1    VPS13D\n",
       "2        CAMTA1      KAZN\n",
       "3        CAMTA1     CROCC\n",
       "4        CAMTA1    EIF4G3\n",
       "...         ...       ...\n",
       "18716   ARHGAP6  IL1RAPL1\n",
       "18717   ARHGAP6       DMD\n",
       "18718    FRMPD4  IL1RAPL1\n",
       "18719    FRMPD4       DMD\n",
       "18720  IL1RAPL1       DMD\n",
       "\n",
       "[18721 rows x 2 columns]"
      ]
     },
     "execution_count": 139,
     "metadata": {},
     "output_type": "execute_result"
    }
   ],
   "source": [
    "g2g_comb = list(itertools.combinations(df_gene_file['gene'].tolist(),2))\n",
    "g2g_comb = pd.DataFrame(g2g_comb)\n",
    "g2g_comb.columns = ['source', 'target']\n",
    "g2g_comb"
   ]
  },
  {
   "cell_type": "markdown",
   "metadata": {},
   "source": [
    "### Vectorize samples"
   ]
  },
  {
   "cell_type": "code",
   "execution_count": 145,
   "metadata": {},
   "outputs": [
    {
     "data": {
      "text/plain": [
       "CAMTA1-RERE         0\n",
       "CAMTA1-VPS13D       0\n",
       "CAMTA1-KAZN         0\n",
       "CAMTA1-CROCC        0\n",
       "CAMTA1-EIF4G3       0\n",
       "                   ..\n",
       "ARHGAP6-IL1RAPL1    0\n",
       "ARHGAP6-DMD         0\n",
       "FRMPD4-IL1RAPL1     0\n",
       "FRMPD4-DMD          0\n",
       "IL1RAPL1-DMD        0\n",
       "Length: 18721, dtype: int64"
      ]
     },
     "execution_count": 145,
     "metadata": {},
     "output_type": "execute_result"
    }
   ],
   "source": [
    "def init_vector(g2g_comb):\n",
    "    return pd.Series(\n",
    "        np.zeros(g2g_comb.shape[0],dtype=np.int64),\n",
    "        index=g2g_comb.apply(\n",
    "            lambda row: f\"{row['source']}-{row['target']}\", axis=1\n",
    "        )\n",
    "    )\n",
    "init_vector(g2g_comb)"
   ]
  },
  {
   "cell_type": "code",
   "execution_count": 151,
   "metadata": {},
   "outputs": [
    {
     "data": {
      "text/plain": [
       "ACYP2-AFF3           1\n",
       "ACYP2-AGAP1          1\n",
       "ACYP2-AP000304.12    1\n",
       "ACYP2-APP            1\n",
       "ACYP2-ARHGAP15       1\n",
       "Name: NA19394, dtype: int64"
      ]
     },
     "execution_count": 151,
     "metadata": {},
     "output_type": "execute_result"
    }
   ],
   "source": [
    "def sample2vec(sample, dir_g2g, smooth = False):\n",
    "    pattern = fr\"^{sample}.\"\n",
    "    files = [i for i in os.listdir(dir_g2g) if re.search(pattern, i)]\n",
    "    v = init_vector(g2g_comb)\n",
    "    v.name = sample\n",
    "    for file in files:\n",
    "        # handle case where gene name includes periods\n",
    "        path = os.path.join(dir_g2g, file)\n",
    "        if not (os.stat(path).st_size == 0):\n",
    "            gene = ''.join(file.split(\".\")[1:-2])\n",
    "            if gene not in genes:\n",
    "                continue\n",
    "            df = read_gene2gene(path)\n",
    "            for i,row in df.iterrows():\n",
    "                target = row['target']\n",
    "                if (target in genes) and (gene != target):\n",
    "                    if f'{gene}-{target}' in v.index:\n",
    "                        v[f'{gene}-{target}'] += 1\n",
    "                    elif (f'{target}-{gene}' in v.index):\n",
    "                        v[f'{target}-{gene}'] += 1\n",
    "                    else:\n",
    "                        raise ValueError(f\"Gene pair {gene}-{target} not in vector index\")\n",
    "            # target = \n",
    "            # df['g2g'] = df['target'].apply(lambda x: f'{gene}-{x}')\n",
    "            # s = df['g2g'].value_counts()\n",
    "            # s.name = gene\n",
    "            # for idx, val in s.items():\n",
    "            #     # test if target is also in supported gene subset\n",
    "            #     print( idx); return\n",
    "            #     if idx in genes:\n",
    "            #         # test if idx is in v index\n",
    "            #         # if not, then it is a reverse pair\n",
    "            #         print(idx)\n",
    "            #         return\n",
    "            #         if f'{idx.split(\"-\")[1]}-{idx.split(\"-\")[0]}' not in v.index:\n",
    "            #             v[idx] = val\n",
    "            #         else:\n",
    "            #             v[f\"{idx.split('-')[1]}-{idx.split('-')[0]}\"] = val\n",
    "    v.sort_index(inplace=True)\n",
    "    if smooth:\n",
    "        v = v.apply(lambda x: x+1)\n",
    "    return v\n",
    "v = sample2vec('NA19394', dir_g2g_1kg, smooth=True)\n",
    "v.head()"
   ]
  },
  {
   "cell_type": "code",
   "execution_count": 154,
   "metadata": {},
   "outputs": [
    {
     "data": {
      "text/plain": [
       "np.int64(3)"
      ]
     },
     "execution_count": 154,
     "metadata": {},
     "output_type": "execute_result"
    }
   ],
   "source": [
    "v.max()"
   ]
  },
  {
   "cell_type": "code",
   "execution_count": 156,
   "metadata": {},
   "outputs": [
    {
     "data": {
      "text/plain": [
       "ACYP2-AFF3           1\n",
       "ACYP2-AGAP1          1\n",
       "ACYP2-AP000304.12    1\n",
       "ACYP2-APP            1\n",
       "ACYP2-ARHGAP15       1\n",
       "Name: HG00096, dtype: int64"
      ]
     },
     "execution_count": 156,
     "metadata": {},
     "output_type": "execute_result"
    }
   ],
   "source": [
    "v2 = sample2vec('HG00096', dir_g2g_1kg,True)\n",
    "v2.head()"
   ]
  },
  {
   "cell_type": "code",
   "execution_count": 157,
   "metadata": {},
   "outputs": [],
   "source": [
    "s2 = v2.sum()\n",
    "q = v2.apply(lambda x: x/s2)"
   ]
  },
  {
   "cell_type": "code",
   "execution_count": 158,
   "metadata": {},
   "outputs": [],
   "source": [
    "s1 = v.sum()\n",
    "p = v.apply(lambda x: x/s1)"
   ]
  },
  {
   "cell_type": "code",
   "execution_count": 167,
   "metadata": {},
   "outputs": [
    {
     "data": {
      "text/plain": [
       "np.float64(0.01072363362371668)"
      ]
     },
     "execution_count": 167,
     "metadata": {},
     "output_type": "execute_result"
    }
   ],
   "source": [
    "kl = entropy(p,q)\n",
    "kl"
   ]
  },
  {
   "cell_type": "code",
   "execution_count": 176,
   "metadata": {},
   "outputs": [
    {
     "data": {
      "text/plain": [
       "2535"
      ]
     },
     "execution_count": 176,
     "metadata": {},
     "output_type": "execute_result"
    }
   ],
   "source": [
    "samples = [i.split(\".\")[0] for i in os.listdir(dir_g2g_1kg)]\n",
    "samples = pd.Series(samples).unique().tolist()\n",
    "len(samples)"
   ]
  },
  {
   "cell_type": "code",
   "execution_count": null,
   "metadata": {},
   "outputs": [],
   "source": [
    "# takes about 3 minutes\n",
    "cpus = 44\n",
    "p_sample2vec = partial(sample2vec, dir_g2g=dir_g2g_1kg,smooth=True)\n",
    "with mp.Pool(cpus) as pool:\n",
    "    vecs = pool.map(p_sample2vec, samples)"
   ]
  },
  {
   "cell_type": "code",
   "execution_count": null,
   "metadata": {},
   "outputs": [
    {
     "data": {
      "text/html": [
       "<div>\n",
       "<style scoped>\n",
       "    .dataframe tbody tr th:only-of-type {\n",
       "        vertical-align: middle;\n",
       "    }\n",
       "\n",
       "    .dataframe tbody tr th {\n",
       "        vertical-align: top;\n",
       "    }\n",
       "\n",
       "    .dataframe thead th {\n",
       "        text-align: right;\n",
       "    }\n",
       "</style>\n",
       "<table border=\"1\" class=\"dataframe\">\n",
       "  <thead>\n",
       "    <tr style=\"text-align: right;\">\n",
       "      <th></th>\n",
       "      <th>ACYP2-AFF3</th>\n",
       "      <th>ACYP2-AGAP1</th>\n",
       "      <th>ACYP2-AP000304.12</th>\n",
       "      <th>ACYP2-APP</th>\n",
       "      <th>ACYP2-ARHGAP15</th>\n",
       "      <th>ACYP2-ARHGAP6</th>\n",
       "      <th>ACYP2-BACH1</th>\n",
       "      <th>ACYP2-CACNA2D3</th>\n",
       "      <th>ACYP2-CADM2</th>\n",
       "      <th>ACYP2-CCSER1</th>\n",
       "      <th>...</th>\n",
       "      <th>ZSWIM5-TTC28</th>\n",
       "      <th>ZSWIM5-ULK4</th>\n",
       "      <th>ZSWIM5-USH2A</th>\n",
       "      <th>ZSWIM5-VAV3</th>\n",
       "      <th>ZSWIM5-WDPCP</th>\n",
       "      <th>ZSWIM5-WWOX</th>\n",
       "      <th>ZSWIM5-ZBTB20</th>\n",
       "      <th>ZSWIM5-ZNF385D</th>\n",
       "      <th>ZSWIM5-ZNF536</th>\n",
       "      <th>ZSWIM5-ZRANB3</th>\n",
       "    </tr>\n",
       "  </thead>\n",
       "  <tbody>\n",
       "    <tr>\n",
       "      <th>NA18614</th>\n",
       "      <td>1</td>\n",
       "      <td>1</td>\n",
       "      <td>1</td>\n",
       "      <td>1</td>\n",
       "      <td>1</td>\n",
       "      <td>1</td>\n",
       "      <td>1</td>\n",
       "      <td>1</td>\n",
       "      <td>1</td>\n",
       "      <td>1</td>\n",
       "      <td>...</td>\n",
       "      <td>1</td>\n",
       "      <td>1</td>\n",
       "      <td>1</td>\n",
       "      <td>1</td>\n",
       "      <td>1</td>\n",
       "      <td>1</td>\n",
       "      <td>1</td>\n",
       "      <td>1</td>\n",
       "      <td>1</td>\n",
       "      <td>1</td>\n",
       "    </tr>\n",
       "    <tr>\n",
       "      <th>HG01918</th>\n",
       "      <td>1</td>\n",
       "      <td>1</td>\n",
       "      <td>1</td>\n",
       "      <td>1</td>\n",
       "      <td>1</td>\n",
       "      <td>1</td>\n",
       "      <td>1</td>\n",
       "      <td>1</td>\n",
       "      <td>1</td>\n",
       "      <td>1</td>\n",
       "      <td>...</td>\n",
       "      <td>1</td>\n",
       "      <td>1</td>\n",
       "      <td>1</td>\n",
       "      <td>2</td>\n",
       "      <td>1</td>\n",
       "      <td>1</td>\n",
       "      <td>1</td>\n",
       "      <td>1</td>\n",
       "      <td>1</td>\n",
       "      <td>2</td>\n",
       "    </tr>\n",
       "    <tr>\n",
       "      <th>NA18546</th>\n",
       "      <td>1</td>\n",
       "      <td>1</td>\n",
       "      <td>1</td>\n",
       "      <td>1</td>\n",
       "      <td>1</td>\n",
       "      <td>1</td>\n",
       "      <td>2</td>\n",
       "      <td>1</td>\n",
       "      <td>1</td>\n",
       "      <td>1</td>\n",
       "      <td>...</td>\n",
       "      <td>1</td>\n",
       "      <td>1</td>\n",
       "      <td>1</td>\n",
       "      <td>1</td>\n",
       "      <td>1</td>\n",
       "      <td>1</td>\n",
       "      <td>1</td>\n",
       "      <td>1</td>\n",
       "      <td>1</td>\n",
       "      <td>1</td>\n",
       "    </tr>\n",
       "    <tr>\n",
       "      <th>HG02855</th>\n",
       "      <td>1</td>\n",
       "      <td>1</td>\n",
       "      <td>1</td>\n",
       "      <td>1</td>\n",
       "      <td>1</td>\n",
       "      <td>1</td>\n",
       "      <td>1</td>\n",
       "      <td>1</td>\n",
       "      <td>1</td>\n",
       "      <td>1</td>\n",
       "      <td>...</td>\n",
       "      <td>1</td>\n",
       "      <td>1</td>\n",
       "      <td>1</td>\n",
       "      <td>1</td>\n",
       "      <td>1</td>\n",
       "      <td>1</td>\n",
       "      <td>1</td>\n",
       "      <td>1</td>\n",
       "      <td>2</td>\n",
       "      <td>1</td>\n",
       "    </tr>\n",
       "    <tr>\n",
       "      <th>HG03565</th>\n",
       "      <td>1</td>\n",
       "      <td>1</td>\n",
       "      <td>1</td>\n",
       "      <td>1</td>\n",
       "      <td>1</td>\n",
       "      <td>1</td>\n",
       "      <td>1</td>\n",
       "      <td>1</td>\n",
       "      <td>1</td>\n",
       "      <td>1</td>\n",
       "      <td>...</td>\n",
       "      <td>1</td>\n",
       "      <td>1</td>\n",
       "      <td>1</td>\n",
       "      <td>1</td>\n",
       "      <td>2</td>\n",
       "      <td>1</td>\n",
       "      <td>1</td>\n",
       "      <td>1</td>\n",
       "      <td>1</td>\n",
       "      <td>1</td>\n",
       "    </tr>\n",
       "    <tr>\n",
       "      <th>...</th>\n",
       "      <td>...</td>\n",
       "      <td>...</td>\n",
       "      <td>...</td>\n",
       "      <td>...</td>\n",
       "      <td>...</td>\n",
       "      <td>...</td>\n",
       "      <td>...</td>\n",
       "      <td>...</td>\n",
       "      <td>...</td>\n",
       "      <td>...</td>\n",
       "      <td>...</td>\n",
       "      <td>...</td>\n",
       "      <td>...</td>\n",
       "      <td>...</td>\n",
       "      <td>...</td>\n",
       "      <td>...</td>\n",
       "      <td>...</td>\n",
       "      <td>...</td>\n",
       "      <td>...</td>\n",
       "      <td>...</td>\n",
       "      <td>...</td>\n",
       "    </tr>\n",
       "    <tr>\n",
       "      <th>NA19063</th>\n",
       "      <td>1</td>\n",
       "      <td>1</td>\n",
       "      <td>1</td>\n",
       "      <td>1</td>\n",
       "      <td>1</td>\n",
       "      <td>1</td>\n",
       "      <td>1</td>\n",
       "      <td>1</td>\n",
       "      <td>1</td>\n",
       "      <td>1</td>\n",
       "      <td>...</td>\n",
       "      <td>1</td>\n",
       "      <td>1</td>\n",
       "      <td>1</td>\n",
       "      <td>1</td>\n",
       "      <td>1</td>\n",
       "      <td>2</td>\n",
       "      <td>1</td>\n",
       "      <td>2</td>\n",
       "      <td>1</td>\n",
       "      <td>1</td>\n",
       "    </tr>\n",
       "    <tr>\n",
       "      <th>HG00105</th>\n",
       "      <td>1</td>\n",
       "      <td>1</td>\n",
       "      <td>1</td>\n",
       "      <td>1</td>\n",
       "      <td>1</td>\n",
       "      <td>1</td>\n",
       "      <td>1</td>\n",
       "      <td>1</td>\n",
       "      <td>1</td>\n",
       "      <td>1</td>\n",
       "      <td>...</td>\n",
       "      <td>1</td>\n",
       "      <td>1</td>\n",
       "      <td>1</td>\n",
       "      <td>1</td>\n",
       "      <td>1</td>\n",
       "      <td>1</td>\n",
       "      <td>1</td>\n",
       "      <td>1</td>\n",
       "      <td>1</td>\n",
       "      <td>1</td>\n",
       "    </tr>\n",
       "    <tr>\n",
       "      <th>HG03385</th>\n",
       "      <td>1</td>\n",
       "      <td>1</td>\n",
       "      <td>1</td>\n",
       "      <td>1</td>\n",
       "      <td>1</td>\n",
       "      <td>1</td>\n",
       "      <td>1</td>\n",
       "      <td>1</td>\n",
       "      <td>1</td>\n",
       "      <td>1</td>\n",
       "      <td>...</td>\n",
       "      <td>1</td>\n",
       "      <td>1</td>\n",
       "      <td>1</td>\n",
       "      <td>1</td>\n",
       "      <td>1</td>\n",
       "      <td>1</td>\n",
       "      <td>1</td>\n",
       "      <td>1</td>\n",
       "      <td>1</td>\n",
       "      <td>1</td>\n",
       "    </tr>\n",
       "    <tr>\n",
       "      <th>NA19461</th>\n",
       "      <td>1</td>\n",
       "      <td>1</td>\n",
       "      <td>1</td>\n",
       "      <td>1</td>\n",
       "      <td>1</td>\n",
       "      <td>1</td>\n",
       "      <td>1</td>\n",
       "      <td>1</td>\n",
       "      <td>1</td>\n",
       "      <td>1</td>\n",
       "      <td>...</td>\n",
       "      <td>1</td>\n",
       "      <td>1</td>\n",
       "      <td>1</td>\n",
       "      <td>1</td>\n",
       "      <td>1</td>\n",
       "      <td>1</td>\n",
       "      <td>1</td>\n",
       "      <td>1</td>\n",
       "      <td>1</td>\n",
       "      <td>1</td>\n",
       "    </tr>\n",
       "    <tr>\n",
       "      <th>HG02121</th>\n",
       "      <td>1</td>\n",
       "      <td>1</td>\n",
       "      <td>1</td>\n",
       "      <td>1</td>\n",
       "      <td>1</td>\n",
       "      <td>1</td>\n",
       "      <td>1</td>\n",
       "      <td>2</td>\n",
       "      <td>1</td>\n",
       "      <td>1</td>\n",
       "      <td>...</td>\n",
       "      <td>1</td>\n",
       "      <td>1</td>\n",
       "      <td>1</td>\n",
       "      <td>1</td>\n",
       "      <td>1</td>\n",
       "      <td>1</td>\n",
       "      <td>2</td>\n",
       "      <td>1</td>\n",
       "      <td>1</td>\n",
       "      <td>1</td>\n",
       "    </tr>\n",
       "  </tbody>\n",
       "</table>\n",
       "<p>2535 rows × 18721 columns</p>\n",
       "</div>"
      ],
      "text/plain": [
       "         ACYP2-AFF3  ACYP2-AGAP1  ACYP2-AP000304.12  ACYP2-APP  \\\n",
       "NA18614           1            1                  1          1   \n",
       "HG01918           1            1                  1          1   \n",
       "NA18546           1            1                  1          1   \n",
       "HG02855           1            1                  1          1   \n",
       "HG03565           1            1                  1          1   \n",
       "...             ...          ...                ...        ...   \n",
       "NA19063           1            1                  1          1   \n",
       "HG00105           1            1                  1          1   \n",
       "HG03385           1            1                  1          1   \n",
       "NA19461           1            1                  1          1   \n",
       "HG02121           1            1                  1          1   \n",
       "\n",
       "         ACYP2-ARHGAP15  ACYP2-ARHGAP6  ACYP2-BACH1  ACYP2-CACNA2D3  \\\n",
       "NA18614               1              1            1               1   \n",
       "HG01918               1              1            1               1   \n",
       "NA18546               1              1            2               1   \n",
       "HG02855               1              1            1               1   \n",
       "HG03565               1              1            1               1   \n",
       "...                 ...            ...          ...             ...   \n",
       "NA19063               1              1            1               1   \n",
       "HG00105               1              1            1               1   \n",
       "HG03385               1              1            1               1   \n",
       "NA19461               1              1            1               1   \n",
       "HG02121               1              1            1               2   \n",
       "\n",
       "         ACYP2-CADM2  ACYP2-CCSER1  ...  ZSWIM5-TTC28  ZSWIM5-ULK4  \\\n",
       "NA18614            1             1  ...             1            1   \n",
       "HG01918            1             1  ...             1            1   \n",
       "NA18546            1             1  ...             1            1   \n",
       "HG02855            1             1  ...             1            1   \n",
       "HG03565            1             1  ...             1            1   \n",
       "...              ...           ...  ...           ...          ...   \n",
       "NA19063            1             1  ...             1            1   \n",
       "HG00105            1             1  ...             1            1   \n",
       "HG03385            1             1  ...             1            1   \n",
       "NA19461            1             1  ...             1            1   \n",
       "HG02121            1             1  ...             1            1   \n",
       "\n",
       "         ZSWIM5-USH2A  ZSWIM5-VAV3  ZSWIM5-WDPCP  ZSWIM5-WWOX  ZSWIM5-ZBTB20  \\\n",
       "NA18614             1            1             1            1              1   \n",
       "HG01918             1            2             1            1              1   \n",
       "NA18546             1            1             1            1              1   \n",
       "HG02855             1            1             1            1              1   \n",
       "HG03565             1            1             2            1              1   \n",
       "...               ...          ...           ...          ...            ...   \n",
       "NA19063             1            1             1            2              1   \n",
       "HG00105             1            1             1            1              1   \n",
       "HG03385             1            1             1            1              1   \n",
       "NA19461             1            1             1            1              1   \n",
       "HG02121             1            1             1            1              2   \n",
       "\n",
       "         ZSWIM5-ZNF385D  ZSWIM5-ZNF536  ZSWIM5-ZRANB3  \n",
       "NA18614               1              1              1  \n",
       "HG01918               1              1              2  \n",
       "NA18546               1              1              1  \n",
       "HG02855               1              2              1  \n",
       "HG03565               1              1              1  \n",
       "...                 ...            ...            ...  \n",
       "NA19063               2              1              1  \n",
       "HG00105               1              1              1  \n",
       "HG03385               1              1              1  \n",
       "NA19461               1              1              1  \n",
       "HG02121               1              1              1  \n",
       "\n",
       "[2535 rows x 18721 columns]"
      ]
     },
     "execution_count": 194,
     "metadata": {},
     "output_type": "execute_result"
    }
   ],
   "source": [
    "df_vec = pd.concat(vecs, axis=1).T\n",
    "df_vec"
   ]
  },
  {
   "cell_type": "code",
   "execution_count": 195,
   "metadata": {},
   "outputs": [],
   "source": [
    "df_vec.to_csv('/data/jake/csci_7000-final_project/1kg-g2g_vecs.tsv', sep='\\t')"
   ]
  },
  {
   "cell_type": "markdown",
   "metadata": {},
   "source": [
    "### Pairwise KL"
   ]
  },
  {
   "cell_type": "code",
   "execution_count": 199,
   "metadata": {},
   "outputs": [
    {
     "name": "stdout",
     "output_type": "stream",
     "text": [
      "3211845\n"
     ]
    },
    {
     "data": {
      "text/plain": [
       "[('NA18614', 'HG01918'), ('NA18614', 'NA18546')]"
      ]
     },
     "execution_count": 199,
     "metadata": {},
     "output_type": "execute_result"
    }
   ],
   "source": [
    "# get all combinations of sample pairs\n",
    "sample_pairs = list(itertools.combinations(samples,2))\n",
    "print(len(sample_pairs))\n",
    "sample_pairs[:2]"
   ]
  },
  {
   "cell_type": "code",
   "execution_count": 200,
   "metadata": {},
   "outputs": [
    {
     "data": {
      "text/plain": [
       "(('NA18614', 'HG01918'), np.float64(0.03506412975184324))"
      ]
     },
     "execution_count": 200,
     "metadata": {},
     "output_type": "execute_result"
    }
   ],
   "source": [
    "def compute_pairwise_kl(sample_pair, df_vec):\n",
    "    s1 = df_vec.loc[sample_pair[0], :]\n",
    "    s2 = df_vec.loc[sample_pair[1], :]\n",
    "    q = s2/s2.sum()\n",
    "    p = s1/s1.sum()\n",
    "    kl = entropy(p,q)\n",
    "    return sample_pair, kl\n",
    "compute_pairwise_kl(sample_pairs[0], df_vec)"
   ]
  },
  {
   "cell_type": "code",
   "execution_count": null,
   "metadata": {},
   "outputs": [
    {
     "data": {
      "text/plain": [
       "[(('NA18614', 'HG01918'), np.float64(0.03506412975184324)),\n",
       " (('NA18614', 'NA18546'), np.float64(0.046144937017003985)),\n",
       " (('NA18614', 'HG02855'), np.float64(0.024378588255198775)),\n",
       " (('NA18614', 'HG03565'), np.float64(0.025647652023445024)),\n",
       " (('NA18614', 'NA19324'), np.float64(0.0220338328573092))]"
      ]
     },
     "execution_count": 201,
     "metadata": {},
     "output_type": "execute_result"
    }
   ],
   "source": [
    "# takes about 2.5 min\n",
    "cpus = 44\n",
    "p_compute_pairwise_kl = partial(compute_pairwise_kl, df_vec=df_vec)\n",
    "with mp.Pool(cpus) as pool:\n",
    "    kls = pool.map(p_compute_pairwise_kl, sample_pairs)\n",
    "kls[:5]"
   ]
  },
  {
   "cell_type": "code",
   "execution_count": 230,
   "metadata": {},
   "outputs": [
    {
     "data": {
      "text/html": [
       "<div>\n",
       "<style scoped>\n",
       "    .dataframe tbody tr th:only-of-type {\n",
       "        vertical-align: middle;\n",
       "    }\n",
       "\n",
       "    .dataframe tbody tr th {\n",
       "        vertical-align: top;\n",
       "    }\n",
       "\n",
       "    .dataframe thead th {\n",
       "        text-align: right;\n",
       "    }\n",
       "</style>\n",
       "<table border=\"1\" class=\"dataframe\">\n",
       "  <thead>\n",
       "    <tr style=\"text-align: right;\">\n",
       "      <th></th>\n",
       "      <th>sample_pair</th>\n",
       "      <th>kl</th>\n",
       "    </tr>\n",
       "  </thead>\n",
       "  <tbody>\n",
       "    <tr>\n",
       "      <th>0</th>\n",
       "      <td>(NA18614, HG01918)</td>\n",
       "      <td>0.035064</td>\n",
       "    </tr>\n",
       "    <tr>\n",
       "      <th>1</th>\n",
       "      <td>(NA18614, NA18546)</td>\n",
       "      <td>0.046145</td>\n",
       "    </tr>\n",
       "    <tr>\n",
       "      <th>2</th>\n",
       "      <td>(NA18614, HG02855)</td>\n",
       "      <td>0.024379</td>\n",
       "    </tr>\n",
       "    <tr>\n",
       "      <th>3</th>\n",
       "      <td>(NA18614, HG03565)</td>\n",
       "      <td>0.025648</td>\n",
       "    </tr>\n",
       "    <tr>\n",
       "      <th>4</th>\n",
       "      <td>(NA18614, NA19324)</td>\n",
       "      <td>0.022034</td>\n",
       "    </tr>\n",
       "  </tbody>\n",
       "</table>\n",
       "</div>"
      ],
      "text/plain": [
       "          sample_pair        kl\n",
       "0  (NA18614, HG01918)  0.035064\n",
       "1  (NA18614, NA18546)  0.046145\n",
       "2  (NA18614, HG02855)  0.024379\n",
       "3  (NA18614, HG03565)  0.025648\n",
       "4  (NA18614, NA19324)  0.022034"
      ]
     },
     "execution_count": 230,
     "metadata": {},
     "output_type": "execute_result"
    }
   ],
   "source": [
    "df_kl_1kg = pd.DataFrame(kls, columns=['sample_pair', 'kl'])\n",
    "df_kl_1kg.head()\n"
   ]
  },
  {
   "cell_type": "code",
   "execution_count": 231,
   "metadata": {},
   "outputs": [
    {
     "data": {
      "text/html": [
       "<div>\n",
       "<style scoped>\n",
       "    .dataframe tbody tr th:only-of-type {\n",
       "        vertical-align: middle;\n",
       "    }\n",
       "\n",
       "    .dataframe tbody tr th {\n",
       "        vertical-align: top;\n",
       "    }\n",
       "\n",
       "    .dataframe thead th {\n",
       "        text-align: right;\n",
       "    }\n",
       "</style>\n",
       "<table border=\"1\" class=\"dataframe\">\n",
       "  <thead>\n",
       "    <tr style=\"text-align: right;\">\n",
       "      <th></th>\n",
       "      <th>s_i</th>\n",
       "      <th>s_j</th>\n",
       "      <th>kl</th>\n",
       "      <th>kl_trans</th>\n",
       "    </tr>\n",
       "  </thead>\n",
       "  <tbody>\n",
       "    <tr>\n",
       "      <th>0</th>\n",
       "      <td>NA18614</td>\n",
       "      <td>HG01918</td>\n",
       "      <td>0.035064</td>\n",
       "      <td>1.455137</td>\n",
       "    </tr>\n",
       "    <tr>\n",
       "      <th>1</th>\n",
       "      <td>NA18614</td>\n",
       "      <td>NA18546</td>\n",
       "      <td>0.046145</td>\n",
       "      <td>1.335876</td>\n",
       "    </tr>\n",
       "    <tr>\n",
       "      <th>2</th>\n",
       "      <td>NA18614</td>\n",
       "      <td>HG02855</td>\n",
       "      <td>0.024379</td>\n",
       "      <td>1.612991</td>\n",
       "    </tr>\n",
       "    <tr>\n",
       "      <th>3</th>\n",
       "      <td>NA18614</td>\n",
       "      <td>HG03565</td>\n",
       "      <td>0.025648</td>\n",
       "      <td>1.590952</td>\n",
       "    </tr>\n",
       "    <tr>\n",
       "      <th>4</th>\n",
       "      <td>NA18614</td>\n",
       "      <td>NA19324</td>\n",
       "      <td>0.022034</td>\n",
       "      <td>1.656910</td>\n",
       "    </tr>\n",
       "  </tbody>\n",
       "</table>\n",
       "</div>"
      ],
      "text/plain": [
       "       s_i      s_j        kl  kl_trans\n",
       "0  NA18614  HG01918  0.035064  1.455137\n",
       "1  NA18614  NA18546  0.046145  1.335876\n",
       "2  NA18614  HG02855  0.024379  1.612991\n",
       "3  NA18614  HG03565  0.025648  1.590952\n",
       "4  NA18614  NA19324  0.022034  1.656910"
      ]
     },
     "execution_count": 231,
     "metadata": {},
     "output_type": "execute_result"
    }
   ],
   "source": [
    "df_kl_1kg[['s_i', 's_j']] = pd.DataFrame(df_kl_1kg['sample_pair'].tolist(), index=df_kl_1kg.index)\n",
    "df_kl_1kg.drop('sample_pair', axis=1, inplace=True)\n",
    "# reorder columns\n",
    "df_kl_1kg = df_kl_1kg[['s_i', 's_j', 'kl']]\n",
    "df_kl_1kg['kl_trans'] = df_kl_1kg['kl'].apply(lambda x: -np.log10(x))\n",
    "df_kl_1kg.head()"
   ]
  },
  {
   "cell_type": "code",
   "execution_count": 232,
   "metadata": {},
   "outputs": [
    {
     "data": {
      "image/png": "[encoded data removed]",
      "text/plain": [
       "<Figure size 640x480 with 1 Axes>"
      ]
     },
     "metadata": {},
     "output_type": "display_data"
    }
   ],
   "source": [
    "df_kl_1kg['kl'].hist(bins=100)\n",
    "plt.grid(False)"
   ]
  },
  {
   "cell_type": "code",
   "execution_count": 227,
   "metadata": {},
   "outputs": [
    {
     "data": {
      "image/png": "[encoded data removed]",
      "text/plain": [
       "<Figure size 640x480 with 1 Axes>"
      ]
     },
     "metadata": {},
     "output_type": "display_data"
    }
   ],
   "source": [
    "df_kl_1kg['kl'].apply(lambda x: -np.log10(x)).hist(bins=100)\n",
    "plt.grid(False)"
   ]
  },
  {
   "cell_type": "code",
   "execution_count": 233,
   "metadata": {},
   "outputs": [
    {
     "data": {
      "image/png": "[encoded data removed]",
      "text/plain": [
       "<Figure size 640x480 with 1 Axes>"
      ]
     },
     "metadata": {},
     "output_type": "display_data"
    }
   ],
   "source": [
    "df_kl_1kg['kl_trans'].hist(bins=100)\n",
    "plt.grid(False)"
   ]
  },
  {
   "cell_type": "code",
   "execution_count": 234,
   "metadata": {},
   "outputs": [],
   "source": [
    "df_kl_1kg.to_csv('/data/jake/csci_7000-final_project/1kg-g2g_kl.tsv', sep='\\t', index=False)"
   ]
  }
 ],
 "metadata": {
  "kernelspec": {
   "display_name": "Python 3 (ipykernel)",
   "language": "python",
   "name": "python3"
  },
  "language_info": {
   "codemirror_mode": {
    "name": "ipython",
    "version": 3
   },
   "file_extension": ".py",
   "mimetype": "text/x-python",
   "name": "python",
   "nbconvert_exporter": "python",
   "pygments_lexer": "ipython3",
   "version": "3.12.2"
  }
 },
 "nbformat": 4,
 "nbformat_minor": 2
}
